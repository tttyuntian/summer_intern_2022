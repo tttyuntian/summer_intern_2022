{
 "cells": [
  {
   "cell_type": "markdown",
   "id": "7a793884",
   "metadata": {},
   "source": [
    "# 1. RGB Rendering"
   ]
  },
  {
   "cell_type": "code",
   "execution_count": 44,
   "id": "a871f938",
   "metadata": {},
   "outputs": [],
   "source": [
    "import blosc\n",
    "import gym\n",
    "from gym_minigrid.window import Window\n",
    "import matplotlib.pyplot as plt\n",
    "import numpy as np\n",
    "import pickle as pkl\n",
    "import torch"
   ]
  },
  {
   "cell_type": "code",
   "execution_count": null,
   "id": "9b54f0bb",
   "metadata": {},
   "outputs": [],
   "source": [
    "# Load environment\n",
    "level_name = \"BossLevel\"\n",
    "env_name = f\"BabyAI-{level_name}-v0\"\n",
    "env = gym.make(env_name)\n",
    "_ = env.reset()\n",
    "\n",
    "# Load generated demonstrations\n",
    "with open(f\"../../babyai/demos/{env_name}_valid.pkl\", \"rb\") as f:\n",
    "    demos = pkl.load(f)"
   ]
  },
  {
   "cell_type": "code",
   "execution_count": 127,
   "id": "d40bf360",
   "metadata": {},
   "outputs": [
    {
     "name": "stdout",
     "output_type": "stream",
     "text": [
      "go to a red ball and pick up the red key\n",
      "(96, 704, 704, 3)\n"
     ]
    }
   ],
   "source": [
    "mission, obs, grid_rgb, grid_raw, direction, action = demos[0]\n",
    "obs = blosc.unpack_array(obs)\n",
    "grid = blosc.unpack_array(grid_rgb)\n",
    "print(mission)\n",
    "print(grid.shape)"
   ]
  },
  {
   "cell_type": "code",
   "execution_count": 111,
   "id": "541c7c26",
   "metadata": {},
   "outputs": [],
   "source": [
    "obs_decoded, vis_mask = env.grid.decode(obs[0])\n",
    "obs_rgb = obs_decoded.render(tile_size=32)"
   ]
  },
  {
   "cell_type": "code",
   "execution_count": 133,
   "id": "cd8226a9",
   "metadata": {
    "scrolled": true
   },
   "outputs": [
    {
     "data": {
      "image/png": "[encoded data removed]",
      "text/plain": [
       "<Figure size 432x288 with 1 Axes>"
      ]
     },
     "metadata": {
      "needs_background": "light"
     },
     "output_type": "display_data"
    }
   ],
   "source": [
    "window = Window('gym_minigrid - ' + level_name)\n",
    "window.show_img(grid[0])"
   ]
  },
  {
   "cell_type": "markdown",
   "id": "8a04be37",
   "metadata": {},
   "source": [
    "# 2. 36-way Region Classification Data Generation"
   ]
  },
  {
   "cell_type": "code",
   "execution_count": 3,
   "id": "10ceed36",
   "metadata": {},
   "outputs": [],
   "source": [
    "import blosc\n",
    "import gym\n",
    "from gym_minigrid.window import Window\n",
    "import io\n",
    "import matplotlib.pyplot as plt\n",
    "import numpy as np\n",
    "import pickle as pkl\n",
    "from PIL import Image\n",
    "import torch\n",
    "from tqdm import tqdm"
   ]
  },
  {
   "cell_type": "code",
   "execution_count": 4,
   "id": "a09a5595",
   "metadata": {},
   "outputs": [],
   "source": [
    "# Load generated demonstrations from GoToObj\n",
    "with open(\"../../demos/GoToObj.pkl\", \"rb\") as f:\n",
    "    demos_train = pkl.load(f)\n",
    "    \n",
    "with open(\"../../demos/GoToObj_valid.pkl\", \"rb\") as f:\n",
    "    demos_valid = pkl.load(f)"
   ]
  },
  {
   "cell_type": "code",
   "execution_count": 5,
   "id": "9009e321",
   "metadata": {},
   "outputs": [],
   "source": [
    "def get_region_cls_data(demos, object_idx_list=[5, 6, 7]):\n",
    "    \n",
    "    def get_object_coordinate(grid):\n",
    "        # Get the labels of coordinates of the target ball\n",
    "        # In GoToObj, objects can be key (5), ball (6), box (7)\n",
    "        height, width, channel = grid.shape\n",
    "        for h in range(height):\n",
    "            for w in range(width):\n",
    "                if grid[h][w][0] in object_idx_list:\n",
    "                    return (h, w)\n",
    "    \n",
    "    def image_to_bytes(image):\n",
    "        bytes_io = io.BytesIO()\n",
    "        image.save(bytes_io, \"PNG\")\n",
    "        return bytes_io.getvalue()\n",
    "    \n",
    "    def coordinate_to_label(coord):\n",
    "        x, y = coord\n",
    "        return ((x - 1) * 6 + y) - 1\n",
    "        \n",
    "    data = []\n",
    "    for demo in tqdm(demos):\n",
    "        _, _, grid_rgb, grid_raw, _, _ = demo\n",
    "        grid_rgb = blosc.unpack_array(grid_rgb)\n",
    "        grid_rgb = grid_rgb[0]  # Naively get the first state\n",
    "        img = Image.fromarray(grid_rgb)\n",
    "        img_encoded = image_to_bytes(img)\n",
    "        \n",
    "        grid_raw = blosc.unpack_array(grid_raw)\n",
    "        grid_raw = grid_raw[0]  # Naively get the first state\n",
    "        \n",
    "        label = get_object_coordinate(grid_raw)\n",
    "        label = coordinate_to_label(label)\n",
    "        \n",
    "        data.append({\n",
    "            \"img\": img_encoded,\n",
    "            \"label\": label\n",
    "        })\n",
    "    return data"
   ]
  },
  {
   "cell_type": "code",
   "execution_count": 53,
   "id": "b82b7ef3",
   "metadata": {},
   "outputs": [
    {
     "name": "stderr",
     "output_type": "stream",
     "text": [
      "100%|████████████████████████████████████| 20000/20000 [01:15<00:00, 265.79it/s]\n",
      "100%|████████████████████████████████████████| 512/512 [00:01<00:00, 270.51it/s]\n"
     ]
    }
   ],
   "source": [
    "data_train = get_region_cls_data(demos_train)\n",
    "data_valid = get_region_cls_data(demos_valid)\n"
   ]
  },
  {
   "cell_type": "code",
   "execution_count": 54,
   "id": "f6fec92a",
   "metadata": {},
   "outputs": [],
   "source": [
    "with open(f\"../../data/babyai/region_cls_train.pkl\", \"wb\") as f:\n",
    "    pkl.dump(data_train, f)\n",
    "\n",
    "with open(f\"../../data/babyai/region_cls_valid.pkl\", \"wb\") as f:\n",
    "    pkl.dump(data_valid, f)"
   ]
  },
  {
   "cell_type": "code",
   "execution_count": 56,
   "id": "09bcd26f",
   "metadata": {},
   "outputs": [
    {
     "data": {
      "image/png": "[encoded data removed]",
      "text/plain": [
       "<PIL.PngImagePlugin.PngImageFile image mode=RGB size=256x256 at 0x7FA2EBE92890>"
      ]
     },
     "execution_count": 56,
     "metadata": {},
     "output_type": "execute_result"
    }
   ],
   "source": [
    "img_encoded = data_train[3][\"img\"]\n",
    "Image.open(io.BytesIO(img_encoded))"
   ]
  },
  {
   "cell_type": "code",
   "execution_count": 79,
   "id": "e1988102",
   "metadata": {
    "scrolled": true
   },
   "outputs": [
    {
     "data": {
      "text/plain": [
       "(256, 256)"
      ]
     },
     "execution_count": 79,
     "metadata": {},
     "output_type": "execute_result"
    }
   ],
   "source": [
    "temp = Image.open(io.BytesIO(img_encoded))\n",
    "temp.size"
   ]
  },
  {
   "cell_type": "markdown",
   "id": "b45b6659",
   "metadata": {},
   "source": [
    "# 3. Generate Pretraining Data"
   ]
  },
  {
   "cell_type": "code",
   "execution_count": 1,
   "id": "df215f2a",
   "metadata": {},
   "outputs": [],
   "source": [
    "import blosc\n",
    "from collections import defaultdict\n",
    "import io\n",
    "import os\n",
    "import pickle as pkl\n",
    "from PIL import Image\n",
    "from tqdm import tqdm"
   ]
  },
  {
   "cell_type": "code",
   "execution_count": null,
   "id": "8595dd13",
   "metadata": {},
   "outputs": [],
   "source": [
    "level_name = \"BossLevel\"\n",
    "with open(f\"../../data/babyai_pretraining/BabyAI-{level_name}-v0.pkl\", \"rb\") as f:\n",
    "    demos_train = pkl.load(f)\n",
    "\n",
    "with open(f\"../../data/babyai_pretraining/BabyAI-{level_name}-v0_valid.pkl\", \"rb\") as f:\n",
    "    demos_valid = pkl.load(f)\n",
    "\n",
    "print(\"train: \", len(demos_train))\n",
    "print(\"valid: \", len(demos_valid))"
   ]
  },
  {
   "cell_type": "code",
   "execution_count": 6,
   "id": "9d299608",
   "metadata": {},
   "outputs": [],
   "source": [
    "def get_pretraining_data(\n",
    "    env,\n",
    "    data,\n",
    "    output_dir_path,\n",
    "    is_train,\n",
    "    split_size=100,\n",
    "    split_start_id=0,\n",
    "):\n",
    "    def image_to_bytes(image):\n",
    "        bytes_io = io.BytesIO()\n",
    "        image.save(bytes_io, \"PNG\")\n",
    "        return bytes_io.getvalue()\n",
    "    \n",
    "    output_dir = os.path.join(output_dir_path, env)\n",
    "    os.makedirs(output_dir, exist_ok=True)\n",
    "    \n",
    "    split_id = 0\n",
    "    data_split = []\n",
    "    for ex_id, ex in tqdm(enumerate(data), total=len(data)):\n",
    "        img = blosc.unpack_array(ex[2])\n",
    "        img = Image.fromarray(img[0])  # Always select the first frame\n",
    "        img_encoded = image_to_bytes(img)\n",
    "        #data_split[\"img\"].append(img[0])  # Always select the first frame\n",
    "        \n",
    "        #data_split[\"mission\"].append(ex[0])\n",
    "\n",
    "        action = \",\".join(ex[6])\n",
    "        #data_split[\"action_seq\"].append(action)\n",
    "        data_split.append({\n",
    "            \"img\": img_encoded,\n",
    "            \"mission\": ex[0],\n",
    "            \"action_seq\": action\n",
    "        })\n",
    "        \n",
    "        if (ex_id+1) % split_size == 0:\n",
    "            if is_train:\n",
    "                output_name = f\"split_train_{split_start_id + split_id}\"\n",
    "            else:\n",
    "                output_name = f\"split_valid_{split_start_id + split_id}\"\n",
    "            \n",
    "            output_path = os.path.join(output_dir, f\"{output_name}.pkl\")\n",
    "            with open(output_path, \"wb\") as f:\n",
    "                pkl.dump(data_split, f)\n",
    "            data_split = []\n",
    "            split_id += 1\n",
    "            #print(\"inside loop\")\n",
    "            #print(\"split_id:\",split_id)\n",
    "            #print(\"split_start_id:\", split_start_id)\n",
    "    \n",
    "    if data_split:\n",
    "        if is_train:\n",
    "            output_name = f\"split_train_{split_start_id + split_id}\"\n",
    "        else:\n",
    "            output_name = f\"split_valid_{split_start_id + split_id}\"\n",
    "\n",
    "        output_path = os.path.join(output_dir, f\"{output_name}.pkl\")\n",
    "        with open(output_path, \"wb\") as f:\n",
    "            pkl.dump(data_split, f)\n",
    "        #print(\"if statement\")\n",
    "        #print(\"split_id:\",split_id)\n",
    "        #print(\"split_start_id:\", split_start_id)\n",
    "    \n",
    "    return split_start_id + split_id  # used to track next starting splid_id"
   ]
  },
  {
   "cell_type": "code",
   "execution_count": 2,
   "id": "60b89f3b",
   "metadata": {},
   "outputs": [],
   "source": [
    "# No split size\n",
    "def get_pretraining_data(\n",
    "    env,\n",
    "    data,\n",
    "    output_dir_path,\n",
    "    is_train,\n",
    "    split_id,\n",
    "):\n",
    "    def image_to_bytes(image):\n",
    "        bytes_io = io.BytesIO()\n",
    "        image.save(bytes_io, \"PNG\")\n",
    "        return bytes_io.getvalue()\n",
    "    \n",
    "    output_dir = os.path.join(output_dir_path, env)\n",
    "    os.makedirs(output_dir, exist_ok=True)\n",
    "    \n",
    "    data_split = []\n",
    "    for ex_id, ex in tqdm(enumerate(data), total=len(data)):\n",
    "        img = blosc.unpack_array(ex[2])\n",
    "        img = Image.fromarray(img[0])  # Always select the first frame\n",
    "        img_encoded = image_to_bytes(img)\n",
    "        \n",
    "        action = \",\".join(ex[6])\n",
    "        \n",
    "        data_split.append({\n",
    "            \"img\": img_encoded,\n",
    "            \"mission\": ex[0],\n",
    "            \"action_seq\": action\n",
    "        })\n",
    "    \n",
    "    if data_split:\n",
    "        if is_train:\n",
    "            output_name = f\"split_train_{split_id}\"\n",
    "        else:\n",
    "            output_name = f\"split_valid_{split_id}\"\n",
    "\n",
    "        output_path = os.path.join(output_dir, f\"{output_name}.pkl\")\n",
    "        with open(output_path, \"wb\") as f:\n",
    "            pkl.dump(data_split, f)\n"
   ]
  },
  {
   "cell_type": "code",
   "execution_count": 3,
   "id": "431cb5c5",
   "metadata": {},
   "outputs": [
    {
     "name": "stdout",
     "output_type": "stream",
     "text": [
      "6\n"
     ]
    },
    {
     "name": "stderr",
     "output_type": "stream",
     "text": [
      "100%|█████████████████████████████████████| 10000/10000 [17:29<00:00,  9.53it/s]\n"
     ]
    },
    {
     "name": "stdout",
     "output_type": "stream",
     "text": [
      "7\n"
     ]
    },
    {
     "name": "stderr",
     "output_type": "stream",
     "text": [
      "100%|█████████████████████████████████████| 10000/10000 [09:20<00:00, 17.83it/s]\n"
     ]
    },
    {
     "name": "stdout",
     "output_type": "stream",
     "text": [
      "8\n"
     ]
    },
    {
     "name": "stderr",
     "output_type": "stream",
     "text": [
      "100%|█████████████████████████████████████| 10000/10000 [09:22<00:00, 17.78it/s]\n"
     ]
    },
    {
     "name": "stdout",
     "output_type": "stream",
     "text": [
      "9\n"
     ]
    },
    {
     "name": "stderr",
     "output_type": "stream",
     "text": [
      "100%|█████████████████████████████████████| 10000/10000 [09:22<00:00, 17.78it/s]\n"
     ]
    }
   ],
   "source": [
    "level_name = \"BossLevel\"\n",
    "\n",
    "split_start_id = 0\n",
    "\n",
    "#for split_id in range(10):\n",
    "for split_id in range(6, 10, 1):\n",
    "    print(split_id)\n",
    "    with open(f\"../../data/babyai_pretraining/BabyAI-{level_name}-v0-split-{split_id}.pkl\", \"rb\") as f:\n",
    "        demos_train = pkl.load(f)\n",
    "    \n",
    "    split_start_id = get_pretraining_data(\n",
    "        level_name, \n",
    "        demos_train, \n",
    "        output_dir_path=\"../../data/babyai_pretraining\",\n",
    "        is_train=True,\n",
    "        #split_size=10000,\n",
    "        split_id=split_id,\n",
    "    )"
   ]
  },
  {
   "cell_type": "code",
   "execution_count": 4,
   "id": "001b02e0",
   "metadata": {
    "scrolled": true
   },
   "outputs": [
    {
     "name": "stdout",
     "output_type": "stream",
     "text": [
      "0\n"
     ]
    },
    {
     "name": "stderr",
     "output_type": "stream",
     "text": [
      "100%|█████████████████████████████████████████| 500/500 [00:28<00:00, 17.80it/s]\n"
     ]
    },
    {
     "name": "stdout",
     "output_type": "stream",
     "text": [
      "1\n"
     ]
    },
    {
     "name": "stderr",
     "output_type": "stream",
     "text": [
      "100%|█████████████████████████████████████████| 500/500 [00:27<00:00, 18.03it/s]\n"
     ]
    },
    {
     "name": "stdout",
     "output_type": "stream",
     "text": [
      "2\n"
     ]
    },
    {
     "name": "stderr",
     "output_type": "stream",
     "text": [
      "100%|█████████████████████████████████████████| 500/500 [00:27<00:00, 18.31it/s]\n"
     ]
    },
    {
     "name": "stdout",
     "output_type": "stream",
     "text": [
      "3\n"
     ]
    },
    {
     "name": "stderr",
     "output_type": "stream",
     "text": [
      "100%|█████████████████████████████████████████| 500/500 [00:28<00:00, 17.85it/s]\n"
     ]
    },
    {
     "name": "stdout",
     "output_type": "stream",
     "text": [
      "4\n"
     ]
    },
    {
     "name": "stderr",
     "output_type": "stream",
     "text": [
      "100%|█████████████████████████████████████████| 500/500 [00:27<00:00, 18.31it/s]\n"
     ]
    },
    {
     "name": "stdout",
     "output_type": "stream",
     "text": [
      "5\n"
     ]
    },
    {
     "name": "stderr",
     "output_type": "stream",
     "text": [
      "100%|█████████████████████████████████████████| 500/500 [00:28<00:00, 17.48it/s]\n"
     ]
    },
    {
     "name": "stdout",
     "output_type": "stream",
     "text": [
      "6\n"
     ]
    },
    {
     "name": "stderr",
     "output_type": "stream",
     "text": [
      "100%|█████████████████████████████████████████| 500/500 [00:28<00:00, 17.37it/s]\n"
     ]
    },
    {
     "name": "stdout",
     "output_type": "stream",
     "text": [
      "7\n"
     ]
    },
    {
     "name": "stderr",
     "output_type": "stream",
     "text": [
      "100%|█████████████████████████████████████████| 500/500 [00:29<00:00, 16.72it/s]\n"
     ]
    },
    {
     "name": "stdout",
     "output_type": "stream",
     "text": [
      "8\n"
     ]
    },
    {
     "name": "stderr",
     "output_type": "stream",
     "text": [
      "100%|█████████████████████████████████████████| 500/500 [00:28<00:00, 17.40it/s]\n"
     ]
    },
    {
     "name": "stdout",
     "output_type": "stream",
     "text": [
      "9\n"
     ]
    },
    {
     "name": "stderr",
     "output_type": "stream",
     "text": [
      "100%|█████████████████████████████████████████| 500/500 [00:26<00:00, 18.64it/s]\n"
     ]
    }
   ],
   "source": [
    "level_name = \"BossLevel\"\n",
    "\n",
    "split_start_id = 0\n",
    "\n",
    "for split_id in range(10):\n",
    "    print(split_id)\n",
    "    with open(f\"../../data/babyai_pretraining/BabyAI-{level_name}-v0-split-{split_id}_valid.pkl\", \"rb\") as f:\n",
    "        demos_valid = pkl.load(f)\n",
    "    \n",
    "    split_start_id = get_pretraining_data(\n",
    "        level_name, \n",
    "        demos_valid, \n",
    "        output_dir_path=\"../../data/babyai_pretraining\",\n",
    "        is_train=False,\n",
    "        split_id=split_id\n",
    "    )"
   ]
  },
  {
   "cell_type": "code",
   "execution_count": 9,
   "id": "66bfcee7",
   "metadata": {},
   "outputs": [],
   "source": [
    "with open(f\"../../data/babyai_pretraining/BabyAI-{level_name}-v0-split-0_valid.pkl\", \"rb\") as f:\n",
    "    data1 = pkl.load(f)\n",
    "\n",
    "with open(f\"../../data/babyai_pretraining/BabyAI-{level_name}-v0-split-1_valid.pkl\", \"rb\") as f:\n",
    "    data2 = pkl.load(f)"
   ]
  },
  {
   "cell_type": "code",
   "execution_count": null,
   "id": "b7029dc0",
   "metadata": {},
   "outputs": [],
   "source": []
  },
  {
   "cell_type": "markdown",
   "id": "df26f086",
   "metadata": {},
   "source": [
    "# 4. Peek at Generated Demonstrations"
   ]
  },
  {
   "cell_type": "code",
   "execution_count": 2,
   "id": "06f6e4f3",
   "metadata": {},
   "outputs": [
    {
     "name": "stderr",
     "output_type": "stream",
     "text": [
      "/usr/local/google/home/tianyun/miniconda3/envs/babyai/lib/python3.7/site-packages/tqdm/auto.py:22: TqdmWarning: IProgress not found. Please update jupyter and ipywidgets. See https://ipywidgets.readthedocs.io/en/stable/user_install.html\n",
      "  from .autonotebook import tqdm as notebook_tqdm\n"
     ]
    }
   ],
   "source": [
    "import blosc\n",
    "from collections import defaultdict\n",
    "import gym\n",
    "#from gym_minigrid.window import Window\n",
    "import io\n",
    "import matplotlib.pyplot as plt\n",
    "import numpy as np\n",
    "import pickle as pkl\n",
    "from PIL import Image\n",
    "import torch\n",
    "from tqdm import tqdm"
   ]
  },
  {
   "cell_type": "code",
   "execution_count": null,
   "id": "d9a52716",
   "metadata": {},
   "outputs": [],
   "source": [
    "# Load generated demonstrations\n",
    "level_name = \"GoToLocal\"\n",
    "#with open(f\"../../data/babyai_pretraining/BabyAI-{level_name}-v0.pkl\", \"rb\") as f:\n",
    "#    demos_train = pkl.load(f)\n",
    "\n",
    "with open(f\"../../data/babyai_pretraining/BabyAI-{level_name}-v0_valid.pkl\", \"rb\") as f:\n",
    "    demos_valid = pkl.load(f)\n",
    "\n",
    "#print(\"train: \", len(demos_train))\n",
    "print(\"valid: \", len(demos_valid))"
   ]
  },
  {
   "cell_type": "code",
   "execution_count": 5,
   "id": "832d913c",
   "metadata": {},
   "outputs": [],
   "source": [
    "# [object, color, state]\n",
    "COLOR_TO_IDX = {\n",
    "    'red'   : 0,\n",
    "    'green' : 1,\n",
    "    'blue'  : 2,\n",
    "    'purple': 3,\n",
    "    'yellow': 4,\n",
    "    'grey'  : 5\n",
    "}\n",
    "\n",
    "OBJECT_TO_IDX = {\n",
    "    'unseen'        : 0,\n",
    "    'empty'         : 1,\n",
    "    'wall'          : 2,\n",
    "    'floor'         : 3,\n",
    "    'door'          : 4,\n",
    "    'key'           : 5,\n",
    "    'ball'          : 6,\n",
    "    'box'           : 7,\n",
    "    'goal'          : 8,\n",
    "    'lava'          : 9,\n",
    "    'agent'         : 10,\n",
    "}\n",
    "\n",
    "STATE_TO_IDX = {\n",
    "    'open'  : 0,\n",
    "    'closed': 1,\n",
    "    'locked': 2,\n",
    "}\n",
    "\n",
    "IDX_TO_COLOR = {idx:color for color, idx in COLOR_TO_IDX.items()}\n",
    "IDX_TO_OBJECT = {idx:obj for obj, idx in OBJECT_TO_IDX.items()}\n",
    "IDX_TO_STATE = {idx:state for state, idx in STATE_TO_IDX.items()}\n",
    "\n",
    "COLOR_IDS = list(COLOR_TO_IDX.values())\n",
    "OBJECT_IDS = list(OBJECT_TO_IDX.values())\n"
   ]
  },
  {
   "cell_type": "code",
   "execution_count": 6,
   "id": "ae62b3da",
   "metadata": {},
   "outputs": [],
   "source": [
    "def is_object_existing(img, object_tuple):\n",
    "    height, width, channel = img.shape\n",
    "    for h in range(height):\n",
    "        for w in range(width):\n",
    "            if all(img[h][w] == object_tuple):\n",
    "                return True\n",
    "    return False\n",
    "\n",
    "def get_object_name(color_id, object_id):\n",
    "    return f\"{IDX_TO_COLOR[color_id]} {IDX_TO_OBJECT[object_id]}\""
   ]
  },
  {
   "cell_type": "code",
   "execution_count": 7,
   "id": "9a7e7a31",
   "metadata": {},
   "outputs": [
    {
     "name": "stdout",
     "output_type": "stream",
     "text": [
      "go to the red key\n"
     ]
    },
    {
     "data": {
      "text/plain": [
       "<matplotlib.image.AxesImage at 0x7f9c937eaa90>"
      ]
     },
     "execution_count": 7,
     "metadata": {},
     "output_type": "execute_result"
    },
    {
     "data": {
      "image/png": "[encoded data removed]",
      "text/plain": [
       "<Figure size 432x288 with 1 Axes>"
      ]
     },
     "metadata": {
      "needs_background": "light"
     },
     "output_type": "display_data"
    }
   ],
   "source": [
    "mission, obs, grid, grid_raw, directions, actions, actions_text = demos_valid[0]\n",
    "print(mission)\n",
    "plt.imshow(blosc.unpack_array(grid)[0])"
   ]
  },
  {
   "cell_type": "code",
   "execution_count": 96,
   "id": "ab3e4914",
   "metadata": {},
   "outputs": [],
   "source": [
    "img = blosc.unpack_array(grid_raw)[0]\n",
    "height, width, channel = img.shape\n",
    "\n",
    "unique_object_counts = defaultdict(int)\n",
    "for h in range(height):\n",
    "    for w in range(width):\n",
    "        unique_object_counts[str(img[h][w])] += 1"
   ]
  },
  {
   "cell_type": "code",
   "execution_count": 102,
   "id": "e37d5d23",
   "metadata": {},
   "outputs": [],
   "source": [
    "def get_impossible_mission(img):\n",
    "    while True:\n",
    "        object_id = np.random.choice(OBJECT_IDS, size=1)[0]\n",
    "        color_id = np.random.choice(COLOR_IDS, size=1)[0]\n",
    "        object_tuple = [object_id, color_id, 0]\n",
    "\n",
    "        if not is_object_existing(img, object_tuple):\n",
    "            return color_id, object_id"
   ]
  },
  {
   "cell_type": "code",
   "execution_count": 97,
   "id": "49f72a80",
   "metadata": {},
   "outputs": [
    {
     "name": "stdout",
     "output_type": "stream",
     "text": [
      "blue box\n"
     ]
    }
   ],
   "source": [
    "while True:\n",
    "    object_id = np.random.choice(OBJECT_IDS, size=1)[0]\n",
    "    color_id = np.random.choice(COLOR_IDS, size=1)[0]\n",
    "    object_tuple = [object_id, color_id, 0]\n",
    "    \n",
    "    if not is_object_existing(img, object_tuple):\n",
    "        print(get_object_name(color_id, object_id))\n",
    "        break"
   ]
  }
 ],
 "metadata": {
  "kernelspec": {
   "display_name": "babyai",
   "language": "python",
   "name": "babyai"
  },
  "language_info": {
   "codemirror_mode": {
    "name": "ipython",
    "version": 3
   },
   "file_extension": ".py",
   "mimetype": "text/x-python",
   "name": "python",
   "nbconvert_exporter": "python",
   "pygments_lexer": "ipython3",
   "version": "3.7.13"
  }
 },
 "nbformat": 4,
 "nbformat_minor": 5
}
