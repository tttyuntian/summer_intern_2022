{
 "cells": [
  {
   "cell_type": "markdown",
   "id": "53cf4752",
   "metadata": {},
   "source": [
    "# 1. Generate Task 0 BossLevel Data"
   ]
  },
  {
   "cell_type": "code",
   "execution_count": 2,
   "id": "de159c55",
   "metadata": {},
   "outputs": [],
   "source": [
    "import blosc\n",
    "from collections import defaultdict\n",
    "import io\n",
    "import os\n",
    "import pickle as pkl\n",
    "from PIL import Image\n",
    "from tqdm import tqdm"
   ]
  },
  {
   "cell_type": "code",
   "execution_count": 3,
   "id": "3168ef28",
   "metadata": {},
   "outputs": [],
   "source": [
    "def get_pretraining_data(\n",
    "    env,\n",
    "    data,\n",
    "    output_dir_path,\n",
    "    is_train,\n",
    "    split_size=100,\n",
    "    split_start_id=0,\n",
    "):\n",
    "    output_dir = os.path.join(output_dir_path, env)\n",
    "    os.makedirs(output_dir, exist_ok=True)\n",
    "    \n",
    "    split_id = 0\n",
    "    data_split = []\n",
    "    for ex_id, ex in tqdm(enumerate(data), total=len(data)):\n",
    "        img = blosc.unpack_array(ex[2])[0]  # Always select the first frame\n",
    "        #img_encoded = image_to_bytes(img)\n",
    "        #data_split[\"img\"].append(img[0])  # Always select the first frame\n",
    "        \n",
    "        #data_split[\"mission\"].append(ex[0])\n",
    "\n",
    "        action = \",\".join(ex[6])\n",
    "        #data_split[\"action_seq\"].append(action)\n",
    "        data_split.append({\n",
    "            \"img\": img,\n",
    "            \"mission\": ex[0],\n",
    "            \"label\": ex[-1]\n",
    "        })\n",
    "        \n",
    "        if (ex_id+1) % split_size == 0:\n",
    "            if is_train:\n",
    "                output_name = f\"split_train_{split_start_id + split_id}\"\n",
    "            else:\n",
    "                output_name = f\"split_valid_{split_start_id + split_id}\"\n",
    "            \n",
    "            output_path = os.path.join(output_dir, f\"{output_name}.pkl\")\n",
    "            with open(output_path, \"wb\") as f:\n",
    "                pkl.dump(data_split, f)\n",
    "            data_split = []\n",
    "            split_id += 1\n",
    "\n",
    "    if data_split:\n",
    "        if is_train:\n",
    "            output_name = f\"split_train_{split_start_id + split_id}\"\n",
    "        else:\n",
    "            output_name = f\"split_valid_{split_start_id + split_id}\"\n",
    "\n",
    "        output_path = os.path.join(output_dir, f\"{output_name}.pkl\")\n",
    "        with open(output_path, \"wb\") as f:\n",
    "            pkl.dump(data_split, f)\n",
    "    \n",
    "    return split_start_id + split_id  # used to track next starting splid_id"
   ]
  },
  {
   "cell_type": "code",
   "execution_count": 5,
   "id": "1456a134",
   "metadata": {},
   "outputs": [
    {
     "name": "stdout",
     "output_type": "stream",
     "text": [
      "0\n"
     ]
    },
    {
     "name": "stderr",
     "output_type": "stream",
     "text": [
      "100%|███████████████████████████████████████| 5000/5000 [05:08<00:00, 16.21it/s]\n"
     ]
    },
    {
     "name": "stdout",
     "output_type": "stream",
     "text": [
      "1\n"
     ]
    },
    {
     "name": "stderr",
     "output_type": "stream",
     "text": [
      "100%|███████████████████████████████████████| 5000/5000 [05:13<00:00, 15.96it/s]\n"
     ]
    },
    {
     "name": "stdout",
     "output_type": "stream",
     "text": [
      "2\n"
     ]
    },
    {
     "name": "stderr",
     "output_type": "stream",
     "text": [
      " 58%|██████████████████████▌                | 2891/5000 [03:30<02:33, 13.73it/s]\n"
     ]
    },
    {
     "ename": "KeyboardInterrupt",
     "evalue": "",
     "output_type": "error",
     "traceback": [
      "\u001b[0;31m---------------------------------------------------------------------------\u001b[0m",
      "\u001b[0;31mKeyboardInterrupt\u001b[0m                         Traceback (most recent call last)",
      "\u001b[0;32m/tmp/ipykernel_7567/3882733844.py\u001b[0m in \u001b[0;36m<module>\u001b[0;34m\u001b[0m\n\u001b[1;32m     14\u001b[0m         \u001b[0mis_train\u001b[0m\u001b[0;34m=\u001b[0m\u001b[0;32mTrue\u001b[0m\u001b[0;34m,\u001b[0m\u001b[0;34m\u001b[0m\u001b[0;34m\u001b[0m\u001b[0m\n\u001b[1;32m     15\u001b[0m         \u001b[0msplit_size\u001b[0m\u001b[0;34m=\u001b[0m\u001b[0;36m500\u001b[0m\u001b[0;34m,\u001b[0m\u001b[0;34m\u001b[0m\u001b[0;34m\u001b[0m\u001b[0m\n\u001b[0;32m---> 16\u001b[0;31m         \u001b[0msplit_start_id\u001b[0m\u001b[0;34m=\u001b[0m\u001b[0msplit_start_id\u001b[0m\u001b[0;34m,\u001b[0m\u001b[0;34m\u001b[0m\u001b[0;34m\u001b[0m\u001b[0m\n\u001b[0m\u001b[1;32m     17\u001b[0m     )\n",
      "\u001b[0;32m/tmp/ipykernel_7567/3068572118.py\u001b[0m in \u001b[0;36mget_pretraining_data\u001b[0;34m(env, data, output_dir_path, is_train, split_size, split_start_id)\u001b[0m\n\u001b[1;32m     13\u001b[0m     \u001b[0mdata_split\u001b[0m \u001b[0;34m=\u001b[0m \u001b[0;34m[\u001b[0m\u001b[0;34m]\u001b[0m\u001b[0;34m\u001b[0m\u001b[0;34m\u001b[0m\u001b[0m\n\u001b[1;32m     14\u001b[0m     \u001b[0;32mfor\u001b[0m \u001b[0mex_id\u001b[0m\u001b[0;34m,\u001b[0m \u001b[0mex\u001b[0m \u001b[0;32min\u001b[0m \u001b[0mtqdm\u001b[0m\u001b[0;34m(\u001b[0m\u001b[0menumerate\u001b[0m\u001b[0;34m(\u001b[0m\u001b[0mdata\u001b[0m\u001b[0;34m)\u001b[0m\u001b[0;34m,\u001b[0m \u001b[0mtotal\u001b[0m\u001b[0;34m=\u001b[0m\u001b[0mlen\u001b[0m\u001b[0;34m(\u001b[0m\u001b[0mdata\u001b[0m\u001b[0;34m)\u001b[0m\u001b[0;34m)\u001b[0m\u001b[0;34m:\u001b[0m\u001b[0;34m\u001b[0m\u001b[0;34m\u001b[0m\u001b[0m\n\u001b[0;32m---> 15\u001b[0;31m         \u001b[0mimg\u001b[0m \u001b[0;34m=\u001b[0m \u001b[0mblosc\u001b[0m\u001b[0;34m.\u001b[0m\u001b[0munpack_array\u001b[0m\u001b[0;34m(\u001b[0m\u001b[0mex\u001b[0m\u001b[0;34m[\u001b[0m\u001b[0;36m2\u001b[0m\u001b[0;34m]\u001b[0m\u001b[0;34m)\u001b[0m\u001b[0;34m[\u001b[0m\u001b[0;36m0\u001b[0m\u001b[0;34m]\u001b[0m  \u001b[0;31m# Always select the first frame\u001b[0m\u001b[0;34m\u001b[0m\u001b[0;34m\u001b[0m\u001b[0m\n\u001b[0m\u001b[1;32m     16\u001b[0m         \u001b[0;31m#img_encoded = image_to_bytes(img)\u001b[0m\u001b[0;34m\u001b[0m\u001b[0;34m\u001b[0m\u001b[0;34m\u001b[0m\u001b[0m\n\u001b[1;32m     17\u001b[0m         \u001b[0;31m#data_split[\"img\"].append(img[0])  # Always select the first frame\u001b[0m\u001b[0;34m\u001b[0m\u001b[0;34m\u001b[0m\u001b[0;34m\u001b[0m\u001b[0m\n",
      "\u001b[0;32m~/miniconda3/envs/babyai/lib/python3.7/site-packages/blosc/toplevel.py\u001b[0m in \u001b[0;36munpack_array\u001b[0;34m(packed_array, **kwargs)\u001b[0m\n\u001b[1;32m    792\u001b[0m             \u001b[0marray\u001b[0m \u001b[0;34m=\u001b[0m \u001b[0mnumpy\u001b[0m\u001b[0;34m.\u001b[0m\u001b[0marray\u001b[0m\u001b[0;34m(\u001b[0m\u001b[0;34m[\u001b[0m\u001b[0mx\u001b[0m\u001b[0;34m.\u001b[0m\u001b[0mdecode\u001b[0m\u001b[0;34m(\u001b[0m\u001b[0;34m'utf-8'\u001b[0m\u001b[0;34m)\u001b[0m \u001b[0;32mfor\u001b[0m \u001b[0mx\u001b[0m \u001b[0;32min\u001b[0m \u001b[0marray\u001b[0m\u001b[0;34m.\u001b[0m\u001b[0mtolist\u001b[0m\u001b[0;34m(\u001b[0m\u001b[0;34m)\u001b[0m\u001b[0;34m]\u001b[0m\u001b[0;34m)\u001b[0m\u001b[0;34m\u001b[0m\u001b[0;34m\u001b[0m\u001b[0m\n\u001b[1;32m    793\u001b[0m     \u001b[0;32melse\u001b[0m\u001b[0;34m:\u001b[0m\u001b[0;34m\u001b[0m\u001b[0;34m\u001b[0m\u001b[0m\n\u001b[0;32m--> 794\u001b[0;31m         \u001b[0marray\u001b[0m \u001b[0;34m=\u001b[0m \u001b[0mpickle\u001b[0m\u001b[0;34m.\u001b[0m\u001b[0mloads\u001b[0m\u001b[0;34m(\u001b[0m\u001b[0mpickled_array\u001b[0m\u001b[0;34m)\u001b[0m\u001b[0;34m\u001b[0m\u001b[0;34m\u001b[0m\u001b[0m\n\u001b[0m\u001b[1;32m    795\u001b[0m \u001b[0;34m\u001b[0m\u001b[0m\n\u001b[1;32m    796\u001b[0m     \u001b[0;32mreturn\u001b[0m \u001b[0marray\u001b[0m\u001b[0;34m\u001b[0m\u001b[0;34m\u001b[0m\u001b[0m\n",
      "\u001b[0;31mKeyboardInterrupt\u001b[0m: "
     ]
    }
   ],
   "source": [
    "level_name = \"BossLevel\"\n",
    "\n",
    "split_start_id = 0\n",
    "\n",
    "for split_id in range(10):\n",
    "    print(split_id)\n",
    "    with open(f\"../../data/task_0/{level_name}/Task0_{level_name}_train_{split_id}.pkl\", \"rb\") as f:\n",
    "        demos_train = pkl.load(f)\n",
    "    \n",
    "    split_start_id = get_pretraining_data(\n",
    "        level_name, \n",
    "        demos_train, \n",
    "        output_dir_path=\"../../data/clip_experiment\",\n",
    "        is_train=True,\n",
    "        split_size=500,\n",
    "        split_start_id=split_start_id,\n",
    "    )"
   ]
  },
  {
   "cell_type": "code",
   "execution_count": null,
   "id": "4cbe1559",
   "metadata": {},
   "outputs": [],
   "source": [
    "level_name = \"BossLevel\"\n",
    "\n",
    "split_start_id = 0\n",
    "\n",
    "for split_id in range(10):\n",
    "    print(split_id)\n",
    "    with open(f\"../../data/task_0/{level_name}/Task0_{level_name}_valid_{split_id}.pkl\", \"rb\") as f:\n",
    "        demos_valid = pkl.load(f)\n",
    "    \n",
    "    split_start_id = get_pretraining_data(\n",
    "        level_name, \n",
    "        demos_valid, \n",
    "        output_dir_path=\"../../data/clip_experiment\",\n",
    "        is_train=False,\n",
    "        split_size=500,\n",
    "        split_start_id=split_start_id,\n",
    "    )"
   ]
  },
  {
   "cell_type": "code",
   "execution_count": null,
   "id": "b695a268",
   "metadata": {},
   "outputs": [],
   "source": []
  }
 ],
 "metadata": {
  "kernelspec": {
   "display_name": "babyai",
   "language": "python",
   "name": "babyai"
  },
  "language_info": {
   "codemirror_mode": {
    "name": "ipython",
    "version": 3
   },
   "file_extension": ".py",
   "mimetype": "text/x-python",
   "name": "python",
   "nbconvert_exporter": "python",
   "pygments_lexer": "ipython3",
   "version": "3.7.13"
  }
 },
 "nbformat": 4,
 "nbformat_minor": 5
}
