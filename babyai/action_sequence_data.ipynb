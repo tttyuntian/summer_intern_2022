{
 "cells": [
  {
   "cell_type": "markdown",
   "id": "a1e3be80",
   "metadata": {},
   "source": [
    "# 1. Action Sequence Data Generation"
   ]
  },
  {
   "cell_type": "code",
   "execution_count": 56,
   "id": "e2e00cec",
   "metadata": {},
   "outputs": [],
   "source": [
    "import blosc\n",
    "from collections import defaultdict\n",
    "from copy import copy\n",
    "import io\n",
    "import os\n",
    "import pickle as pkl\n",
    "from PIL import Image\n",
    "import random\n",
    "from tqdm import tqdm"
   ]
  },
  {
   "cell_type": "code",
   "execution_count": 67,
   "id": "68515568",
   "metadata": {},
   "outputs": [],
   "source": [
    "def get_negative_action_seq(actions, tolerance=20):    \n",
    "    if (\"right\" not in actions) and (\"left\" not in actions):\n",
    "        # If all the actions are \"forward\", then we do not swap\n",
    "        negative_case_id = random.choice([1,2])\n",
    "    else:\n",
    "        negative_case_id = random.choice([0,1,2])\n",
    "\n",
    "    if negative_case_id == 0:\n",
    "        # Swap action tokens\n",
    "        id_1 = random.randint(0, len(actions)-1)\n",
    "        count = 0\n",
    "        while count < tolerance:\n",
    "            count += 1\n",
    "            id_2 = random.randint(0, len(actions)-1)\n",
    "            if id_1 == id_2:\n",
    "                id_2 = random.randint(0, len(actions)-1)\n",
    "                continue\n",
    "            if actions[id_1] == actions[id_2]:\n",
    "                continue\n",
    "            break\n",
    "        actions[id_1], actions[id_2] = actions[id_2], actions[id_1]\n",
    "\n",
    "    elif negative_case_id == 1:\n",
    "        # Delete action_token\n",
    "        id_1 = random.randint(0, len(actions)-1)\n",
    "        actions.pop(id_1)\n",
    "\n",
    "    elif negative_case_id == 2:\n",
    "        # Add action token\n",
    "        new_token = random.choice([\"left\", \"right\"])\n",
    "        new_token_id = random.choice(list(range(0, len(actions)-1)))  # Don't add as the last action\n",
    "        actions.insert(new_token_id, new_token)\n",
    "    return(actions)\n"
   ]
  },
  {
   "cell_type": "code",
   "execution_count": 102,
   "id": "59c2fffc",
   "metadata": {},
   "outputs": [],
   "source": [
    "def get_pretraining_data(\n",
    "    env,\n",
    "    data,\n",
    "    output_dir_path,\n",
    "    is_train,\n",
    "    split_id=0,\n",
    "):\n",
    "    def image_to_bytes(image):\n",
    "        bytes_io = io.BytesIO()\n",
    "        image.save(bytes_io, \"PNG\")\n",
    "        return bytes_io.getvalue()\n",
    "    \n",
    "    output_dir = os.path.join(output_dir_path, env)\n",
    "    os.makedirs(output_dir, exist_ok=True)\n",
    "    \n",
    "    data_split = []\n",
    "    for ex_id, ex in tqdm(enumerate(data), total=len(data)):\n",
    "        if ex[-1] == \"No\":\n",
    "            # Ignore unsolvable cases now\n",
    "            continue\n",
    "            \n",
    "        if len(ex[6]) <= 3 or len(ex[6]) >= 50:\n",
    "            # Ignore solvable cases with too short/long action sequence\n",
    "            continue\n",
    "        \n",
    "        img = blosc.unpack_array(ex[2])\n",
    "        img = Image.fromarray(img[0])  # Always select the first frame\n",
    "        img_encoded = image_to_bytes(img)\n",
    "        action = \",\".join(ex[6])\n",
    "        \n",
    "        # Positive case\n",
    "        data_split.append({\n",
    "            \"img\": img_encoded,\n",
    "            \"mission\": ex[0],\n",
    "            \"action\": action,\n",
    "            \"text_input\": f\"Goal: {ex[0]}. Action: {action}.\",\n",
    "            \"label\": \"Yes\"\n",
    "        })\n",
    "        \n",
    "        # Negative case\n",
    "        action_tokens = copy(ex[6])\n",
    "        negative_action = get_negative_action_seq(action_tokens)\n",
    "        #text_input = [\"Goal\", \":\"] + ex[0] + [\".\", \"Action\", \":\"] + negative_action + \".\"\n",
    "        negative_action = \",\".join(negative_action)\n",
    "        data_split.append({\n",
    "            \"img\": img_encoded,\n",
    "            \"mission\": ex[0],\n",
    "            \"action\": negative_action,\n",
    "            \"text_input\": f\"Goal: {ex[0]}. Action: {negative_action}.\",\n",
    "            \"label\": \"No\"\n",
    "        })\n",
    "        \n",
    "        \"\"\"\n",
    "        if (ex_id+1) % split_size == 0:\n",
    "            if is_train:\n",
    "                output_name = f\"split_train_{split_start_id + split_id}\"\n",
    "            else:\n",
    "                output_name = f\"split_valid_{split_start_id + split_id}\"\n",
    "            \n",
    "            output_path = os.path.join(output_dir, f\"{output_name}.pkl\")\n",
    "            with open(output_path, \"wb\") as f:\n",
    "                pkl.dump(data_split, f)\n",
    "            data_split = []\n",
    "            split_id += 1\n",
    "        \"\"\"\n",
    "    \n",
    "    print(f\"Collected: {len(data_split)}\")\n",
    "    if data_split:\n",
    "        if is_train:\n",
    "            output_name = f\"split_train_{split_id}\"\n",
    "        else:\n",
    "            output_name = f\"split_valid_{split_id}\"\n",
    "\n",
    "        output_path = os.path.join(output_dir, f\"{output_name}.pkl\")\n",
    "        print(output_path)\n",
    "        with open(output_path, \"wb\") as f:\n",
    "            pkl.dump(data_split, f)\n",
    "    "
   ]
  },
  {
   "cell_type": "code",
   "execution_count": 103,
   "id": "97b5932d",
   "metadata": {},
   "outputs": [
    {
     "name": "stdout",
     "output_type": "stream",
     "text": [
      "0\n"
     ]
    },
    {
     "name": "stderr",
     "output_type": "stream",
     "text": [
      "100%|██████████████████████████████████████| 5000/5000 [00:29<00:00, 170.42it/s]\n"
     ]
    },
    {
     "name": "stdout",
     "output_type": "stream",
     "text": [
      "Collected: 2014\n",
      "../../data/clip_experiment/action_seq_binary/BossLevel/split_train_0.pkl\n",
      "1\n"
     ]
    },
    {
     "name": "stderr",
     "output_type": "stream",
     "text": [
      "100%|██████████████████████████████████████| 5000/5000 [00:27<00:00, 183.81it/s]\n"
     ]
    },
    {
     "name": "stdout",
     "output_type": "stream",
     "text": [
      "Collected: 1860\n",
      "../../data/clip_experiment/action_seq_binary/BossLevel/split_train_1.pkl\n",
      "2\n"
     ]
    },
    {
     "name": "stderr",
     "output_type": "stream",
     "text": [
      "100%|██████████████████████████████████████| 5000/5000 [00:46<00:00, 108.00it/s]\n"
     ]
    },
    {
     "name": "stdout",
     "output_type": "stream",
     "text": [
      "Collected: 1892\n",
      "../../data/clip_experiment/action_seq_binary/BossLevel/split_train_2.pkl\n",
      "3\n"
     ]
    },
    {
     "name": "stderr",
     "output_type": "stream",
     "text": [
      "100%|██████████████████████████████████████| 5000/5000 [00:27<00:00, 180.38it/s]\n"
     ]
    },
    {
     "name": "stdout",
     "output_type": "stream",
     "text": [
      "Collected: 1850\n",
      "../../data/clip_experiment/action_seq_binary/BossLevel/split_train_3.pkl\n",
      "4\n"
     ]
    },
    {
     "name": "stderr",
     "output_type": "stream",
     "text": [
      "100%|██████████████████████████████████████| 5000/5000 [00:27<00:00, 180.40it/s]\n"
     ]
    },
    {
     "name": "stdout",
     "output_type": "stream",
     "text": [
      "Collected: 1880\n",
      "../../data/clip_experiment/action_seq_binary/BossLevel/split_train_4.pkl\n",
      "5\n"
     ]
    },
    {
     "name": "stderr",
     "output_type": "stream",
     "text": [
      "100%|██████████████████████████████████████| 5000/5000 [00:28<00:00, 177.34it/s]\n"
     ]
    },
    {
     "name": "stdout",
     "output_type": "stream",
     "text": [
      "Collected: 1898\n",
      "../../data/clip_experiment/action_seq_binary/BossLevel/split_train_5.pkl\n",
      "6\n"
     ]
    },
    {
     "name": "stderr",
     "output_type": "stream",
     "text": [
      "100%|██████████████████████████████████████| 5000/5000 [00:27<00:00, 183.95it/s]\n"
     ]
    },
    {
     "name": "stdout",
     "output_type": "stream",
     "text": [
      "Collected: 1874\n",
      "../../data/clip_experiment/action_seq_binary/BossLevel/split_train_6.pkl\n",
      "7\n"
     ]
    },
    {
     "name": "stderr",
     "output_type": "stream",
     "text": [
      "100%|██████████████████████████████████████| 5000/5000 [00:27<00:00, 183.38it/s]\n"
     ]
    },
    {
     "name": "stdout",
     "output_type": "stream",
     "text": [
      "Collected: 1846\n",
      "../../data/clip_experiment/action_seq_binary/BossLevel/split_train_7.pkl\n",
      "8\n"
     ]
    },
    {
     "name": "stderr",
     "output_type": "stream",
     "text": [
      "100%|██████████████████████████████████████| 5000/5000 [00:27<00:00, 180.72it/s]\n"
     ]
    },
    {
     "name": "stdout",
     "output_type": "stream",
     "text": [
      "Collected: 1872\n",
      "../../data/clip_experiment/action_seq_binary/BossLevel/split_train_8.pkl\n",
      "9\n"
     ]
    },
    {
     "name": "stderr",
     "output_type": "stream",
     "text": [
      "100%|██████████████████████████████████████| 5000/5000 [00:28<00:00, 172.94it/s]"
     ]
    },
    {
     "name": "stdout",
     "output_type": "stream",
     "text": [
      "Collected: 1944\n",
      "../../data/clip_experiment/action_seq_binary/BossLevel/split_train_9.pkl\n"
     ]
    },
    {
     "name": "stderr",
     "output_type": "stream",
     "text": [
      "\n"
     ]
    }
   ],
   "source": [
    "level_name = \"BossLevel\"\n",
    "\n",
    "for split_id in range(10):\n",
    "    print(split_id)\n",
    "    with open(f\"../../data/task_0/{level_name}/Task0_{level_name}_train_{split_id}.pkl\", \"rb\") as f:\n",
    "        demos_train = pkl.load(f)\n",
    "    \n",
    "    get_pretraining_data(\n",
    "        level_name, \n",
    "        demos_train, \n",
    "        output_dir_path=\"../../data/clip_experiment/action_seq_binary\",\n",
    "        is_train=True,\n",
    "        split_id=split_id,\n",
    "    )"
   ]
  },
  {
   "cell_type": "code",
   "execution_count": 104,
   "id": "d0e546f0",
   "metadata": {
    "scrolled": true
   },
   "outputs": [
    {
     "name": "stdout",
     "output_type": "stream",
     "text": [
      "0\n"
     ]
    },
    {
     "name": "stderr",
     "output_type": "stream",
     "text": [
      "100%|██████████████████████████████████████| 1000/1000 [00:05<00:00, 180.65it/s]\n"
     ]
    },
    {
     "name": "stdout",
     "output_type": "stream",
     "text": [
      "Collected: 378\n",
      "../../data/clip_experiment/action_seq_binary/BossLevel/split_valid_0.pkl\n",
      "1\n"
     ]
    },
    {
     "name": "stderr",
     "output_type": "stream",
     "text": [
      "100%|██████████████████████████████████████| 1000/1000 [00:05<00:00, 169.59it/s]\n"
     ]
    },
    {
     "name": "stdout",
     "output_type": "stream",
     "text": [
      "Collected: 394\n",
      "../../data/clip_experiment/action_seq_binary/BossLevel/split_valid_1.pkl\n",
      "2\n"
     ]
    },
    {
     "name": "stderr",
     "output_type": "stream",
     "text": [
      "100%|██████████████████████████████████████| 1000/1000 [00:05<00:00, 186.13it/s]\n"
     ]
    },
    {
     "name": "stdout",
     "output_type": "stream",
     "text": [
      "Collected: 366\n",
      "../../data/clip_experiment/action_seq_binary/BossLevel/split_valid_2.pkl\n",
      "3\n"
     ]
    },
    {
     "name": "stderr",
     "output_type": "stream",
     "text": [
      "100%|██████████████████████████████████████| 1000/1000 [00:05<00:00, 193.25it/s]\n"
     ]
    },
    {
     "name": "stdout",
     "output_type": "stream",
     "text": [
      "Collected: 358\n",
      "../../data/clip_experiment/action_seq_binary/BossLevel/split_valid_3.pkl\n",
      "4\n"
     ]
    },
    {
     "name": "stderr",
     "output_type": "stream",
     "text": [
      "100%|██████████████████████████████████████| 1000/1000 [00:05<00:00, 176.67it/s]\n"
     ]
    },
    {
     "name": "stdout",
     "output_type": "stream",
     "text": [
      "Collected: 380\n",
      "../../data/clip_experiment/action_seq_binary/BossLevel/split_valid_4.pkl\n",
      "5\n"
     ]
    },
    {
     "name": "stderr",
     "output_type": "stream",
     "text": [
      "100%|██████████████████████████████████████| 1000/1000 [00:05<00:00, 173.25it/s]\n"
     ]
    },
    {
     "name": "stdout",
     "output_type": "stream",
     "text": [
      "Collected: 384\n",
      "../../data/clip_experiment/action_seq_binary/BossLevel/split_valid_5.pkl\n",
      "6\n"
     ]
    },
    {
     "name": "stderr",
     "output_type": "stream",
     "text": [
      "100%|██████████████████████████████████████| 1000/1000 [00:05<00:00, 176.64it/s]\n"
     ]
    },
    {
     "name": "stdout",
     "output_type": "stream",
     "text": [
      "Collected: 384\n",
      "../../data/clip_experiment/action_seq_binary/BossLevel/split_valid_6.pkl\n",
      "7\n"
     ]
    },
    {
     "name": "stderr",
     "output_type": "stream",
     "text": [
      "100%|██████████████████████████████████████| 1000/1000 [00:05<00:00, 174.88it/s]\n"
     ]
    },
    {
     "name": "stdout",
     "output_type": "stream",
     "text": [
      "Collected: 390\n",
      "../../data/clip_experiment/action_seq_binary/BossLevel/split_valid_7.pkl\n",
      "8\n"
     ]
    },
    {
     "name": "stderr",
     "output_type": "stream",
     "text": [
      "100%|██████████████████████████████████████| 1000/1000 [00:05<00:00, 188.73it/s]\n"
     ]
    },
    {
     "name": "stdout",
     "output_type": "stream",
     "text": [
      "Collected: 362\n",
      "../../data/clip_experiment/action_seq_binary/BossLevel/split_valid_8.pkl\n",
      "9\n"
     ]
    },
    {
     "name": "stderr",
     "output_type": "stream",
     "text": [
      "100%|██████████████████████████████████████| 1000/1000 [00:05<00:00, 176.20it/s]"
     ]
    },
    {
     "name": "stdout",
     "output_type": "stream",
     "text": [
      "Collected: 384\n",
      "../../data/clip_experiment/action_seq_binary/BossLevel/split_valid_9.pkl\n"
     ]
    },
    {
     "name": "stderr",
     "output_type": "stream",
     "text": [
      "\n"
     ]
    }
   ],
   "source": [
    "level_name = \"BossLevel\"\n",
    "\n",
    "for split_id in range(10):\n",
    "    print(split_id)\n",
    "    with open(f\"../../data/task_0/{level_name}/Task0_{level_name}_valid_{split_id}.pkl\", \"rb\") as f:\n",
    "        demos_train = pkl.load(f)\n",
    "    \n",
    "    get_pretraining_data(\n",
    "        level_name, \n",
    "        demos_train, \n",
    "        output_dir_path=\"../../data/clip_experiment/action_seq_binary\",\n",
    "        is_train=False,\n",
    "        split_id=split_id,\n",
    "    )"
   ]
  },
  {
   "cell_type": "markdown",
   "id": "acd5b3f0",
   "metadata": {},
   "source": [
    "# 1.1. Number of examples"
   ]
  },
  {
   "cell_type": "code",
   "execution_count": 105,
   "id": "3baef945",
   "metadata": {},
   "outputs": [
    {
     "name": "stdout",
     "output_type": "stream",
     "text": [
      "Train data: 18930\n",
      "Valid data: 3780\n"
     ]
    }
   ],
   "source": [
    "\n",
    "count = 0\n",
    "for split_id in range(10):\n",
    "    with open(f\"../../data/clip_experiment/action_seq_binary/BossLevel/split_train_{split_id}.pkl\", \"rb\") as f:\n",
    "        data = pkl.load(f)\n",
    "        count += len(data)\n",
    "print(f\"Train data: {count}\")\n",
    "\n",
    "count = 0\n",
    "for split_id in range(10):\n",
    "    with open(f\"../../data/clip_experiment/action_seq_binary/BossLevel/split_valid_{split_id}.pkl\", \"rb\") as f:\n",
    "        data = pkl.load(f)\n",
    "        count += len(data)\n",
    "print(f\"Valid data: {count}\")"
   ]
  },
  {
   "cell_type": "markdown",
   "id": "2d9bcd43",
   "metadata": {},
   "source": [
    "# 1.2. Length of Text Features"
   ]
  },
  {
   "cell_type": "code",
   "execution_count": 113,
   "id": "61831abb",
   "metadata": {},
   "outputs": [
    {
     "data": {
      "text/plain": [
       "'forward,left,forward,forward,forward'"
      ]
     },
     "execution_count": 113,
     "metadata": {},
     "output_type": "execute_result"
    }
   ],
   "source": [
    "ex[\"action\"]"
   ]
  },
  {
   "cell_type": "code",
   "execution_count": 116,
   "id": "ea9f1f7d",
   "metadata": {},
   "outputs": [
    {
     "name": "stdout",
     "output_type": "stream",
     "text": [
      "Train data: 51\n",
      "Valid data: 51\n"
     ]
    }
   ],
   "source": [
    "train_text_input_lens = defaultdict(int)\n",
    "for split_id in range(10):\n",
    "    with open(f\"../../data/clip_experiment/action_seq_binary/BossLevel/split_train_{split_id}.pkl\", \"rb\") as f:\n",
    "        data = pkl.load(f)\n",
    "        for ex_id, ex in enumerate(data):\n",
    "            mission = ex[\"mission\"]\n",
    "            action = ex[\"action\"]\n",
    "            train_text_input_lens[str(len(text_input))] += 1\n",
    "print(f\"Train data: {len(mission.split(' ')) + len(action.split(','))}\")\n",
    "\n",
    "valid_text_input_lens = defaultdict(int)\n",
    "for split_id in range(10):\n",
    "    with open(f\"../../data/clip_experiment/action_seq_binary/BossLevel/split_valid_{split_id}.pkl\", \"rb\") as f:\n",
    "        data = pkl.load(f)\n",
    "        for ex_id, ex in enumerate(data):\n",
    "            text_input = ex[\"text_input\"]\n",
    "            valid_text_input_lens[str(len(text_input))] += 1\n",
    "print(f\"Valid data: {len(mission.split(' ')) + len(action.split(','))}\")"
   ]
  },
  {
   "cell_type": "code",
   "execution_count": 119,
   "id": "40e15896",
   "metadata": {},
   "outputs": [
    {
     "data": {
      "text/plain": [
       "defaultdict(int,\n",
       "            {'284': 14,\n",
       "             '289': 7,\n",
       "             '294': 4,\n",
       "             '286': 8,\n",
       "             '84': 20,\n",
       "             '77': 25,\n",
       "             '255': 10,\n",
       "             '250': 6,\n",
       "             '155': 14,\n",
       "             '149': 14,\n",
       "             '136': 17,\n",
       "             '142': 8,\n",
       "             '97': 25,\n",
       "             '89': 16,\n",
       "             '87': 13,\n",
       "             '79': 28,\n",
       "             '181': 14,\n",
       "             '176': 17,\n",
       "             '283': 5,\n",
       "             '375': 5,\n",
       "             '381': 9,\n",
       "             '429': 4,\n",
       "             '434': 1,\n",
       "             '360': 6,\n",
       "             '352': 10,\n",
       "             '345': 10,\n",
       "             '350': 9,\n",
       "             '113': 14,\n",
       "             '282': 7,\n",
       "             '147': 7,\n",
       "             '141': 14,\n",
       "             '406': 7,\n",
       "             '411': 2,\n",
       "             '390': 5,\n",
       "             '382': 8,\n",
       "             '191': 17,\n",
       "             '196': 18,\n",
       "             '90': 20,\n",
       "             '319': 9,\n",
       "             '377': 8,\n",
       "             '178': 15,\n",
       "             '170': 21,\n",
       "             '85': 34,\n",
       "             '247': 11,\n",
       "             '216': 13,\n",
       "             '208': 7,\n",
       "             '73': 18,\n",
       "             '78': 16,\n",
       "             '184': 19,\n",
       "             '190': 10,\n",
       "             '74': 18,\n",
       "             '80': 25,\n",
       "             '69': 23,\n",
       "             '127': 13,\n",
       "             '119': 17,\n",
       "             '124': 20,\n",
       "             '129': 8,\n",
       "             '210': 9,\n",
       "             '202': 5,\n",
       "             '103': 20,\n",
       "             '71': 23,\n",
       "             '64': 17,\n",
       "             '169': 10,\n",
       "             '131': 9,\n",
       "             '137': 8,\n",
       "             '63': 17,\n",
       "             '280': 11,\n",
       "             '285': 14,\n",
       "             '354': 12,\n",
       "             '359': 9,\n",
       "             '134': 15,\n",
       "             '112': 14,\n",
       "             '105': 22,\n",
       "             '148': 12,\n",
       "             '209': 11,\n",
       "             '203': 14,\n",
       "             '175': 18,\n",
       "             '167': 13,\n",
       "             '308': 8,\n",
       "             '341': 7,\n",
       "             '333': 9,\n",
       "             '214': 13,\n",
       "             '206': 12,\n",
       "             '160': 12,\n",
       "             '152': 14,\n",
       "             '102': 18,\n",
       "             '157': 14,\n",
       "             '183': 15,\n",
       "             '106': 11,\n",
       "             '101': 11,\n",
       "             '199': 5,\n",
       "             '204': 14,\n",
       "             '115': 12,\n",
       "             '107': 14,\n",
       "             '220': 10,\n",
       "             '212': 9,\n",
       "             '171': 13,\n",
       "             '374': 7,\n",
       "             '111': 20,\n",
       "             '104': 13,\n",
       "             '109': 19,\n",
       "             '70': 14,\n",
       "             '75': 19,\n",
       "             '355': 5,\n",
       "             '361': 13,\n",
       "             '235': 18,\n",
       "             '100': 20,\n",
       "             '270': 10,\n",
       "             '197': 9,\n",
       "             '156': 12,\n",
       "             '99': 22,\n",
       "             '215': 4,\n",
       "             '260': 7,\n",
       "             '325': 8,\n",
       "             '61': 16,\n",
       "             '56': 9,\n",
       "             '165': 8,\n",
       "             '267': 5,\n",
       "             '386': 10,\n",
       "             '279': 15,\n",
       "             '66': 17,\n",
       "             '397': 7,\n",
       "             '227': 10,\n",
       "             '219': 12,\n",
       "             '321': 7,\n",
       "             '344': 16,\n",
       "             '385': 6,\n",
       "             '53': 3,\n",
       "             '364': 12,\n",
       "             '287': 9,\n",
       "             '293': 10,\n",
       "             '201': 9,\n",
       "             '207': 8,\n",
       "             '415': 3,\n",
       "             '420': 5,\n",
       "             '163': 16,\n",
       "             '264': 11,\n",
       "             '256': 12,\n",
       "             '133': 12,\n",
       "             '110': 16,\n",
       "             '159': 5,\n",
       "             '154': 14,\n",
       "             '432': 3,\n",
       "             '306': 10,\n",
       "             '311': 13,\n",
       "             '316': 9,\n",
       "             '72': 16,\n",
       "             '338': 11,\n",
       "             '67': 10,\n",
       "             '230': 14,\n",
       "             '139': 12,\n",
       "             '188': 12,\n",
       "             '301': 12,\n",
       "             '186': 10,\n",
       "             '388': 9,\n",
       "             '180': 14,\n",
       "             '65': 7,\n",
       "             '140': 13,\n",
       "             '145': 9,\n",
       "             '273': 5,\n",
       "             '265': 4,\n",
       "             '168': 15,\n",
       "             '162': 22,\n",
       "             '151': 7,\n",
       "             '144': 19,\n",
       "             '412': 11,\n",
       "             '417': 5,\n",
       "             '222': 4,\n",
       "             '228': 9,\n",
       "             '357': 11,\n",
       "             '362': 8,\n",
       "             '114': 18,\n",
       "             '324': 8,\n",
       "             '120': 15,\n",
       "             '117': 8,\n",
       "             '122': 14,\n",
       "             '275': 3,\n",
       "             '245': 6,\n",
       "             '237': 9,\n",
       "             '166': 8,\n",
       "             '347': 9,\n",
       "             '194': 13,\n",
       "             '349': 8,\n",
       "             '59': 9,\n",
       "             '205': 7,\n",
       "             '200': 12,\n",
       "             '266': 5,\n",
       "             '258': 15,\n",
       "             '233': 4,\n",
       "             '94': 11,\n",
       "             '348': 8,\n",
       "             '177': 11,\n",
       "             '86': 19,\n",
       "             '346': 11,\n",
       "             '394': 6,\n",
       "             '399': 6,\n",
       "             '76': 20,\n",
       "             '126': 16,\n",
       "             '307': 8,\n",
       "             '302': 4,\n",
       "             '356': 4,\n",
       "             '211': 9,\n",
       "             '217': 7,\n",
       "             '391': 10,\n",
       "             '91': 19,\n",
       "             '340': 11,\n",
       "             '332': 11,\n",
       "             '224': 17,\n",
       "             '229': 11,\n",
       "             '179': 8,\n",
       "             '257': 7,\n",
       "             '138': 13,\n",
       "             '398': 6,\n",
       "             '403': 10,\n",
       "             '125': 16,\n",
       "             '380': 6,\n",
       "             '242': 3,\n",
       "             '146': 9,\n",
       "             '172': 9,\n",
       "             '409': 10,\n",
       "             '60': 9,\n",
       "             '52': 3,\n",
       "             '182': 11,\n",
       "             '174': 8,\n",
       "             '173': 15,\n",
       "             '339': 16,\n",
       "             '331': 8,\n",
       "             '68': 14,\n",
       "             '358': 9,\n",
       "             '82': 16,\n",
       "             '192': 8,\n",
       "             '189': 9,\n",
       "             '88': 12,\n",
       "             '93': 21,\n",
       "             '239': 11,\n",
       "             '231': 7,\n",
       "             '98': 14,\n",
       "             '83': 24,\n",
       "             '268': 9,\n",
       "             '446': 1,\n",
       "             '452': 1,\n",
       "             '243': 1,\n",
       "             '153': 8,\n",
       "             '259': 9,\n",
       "             '395': 8,\n",
       "             '118': 17,\n",
       "             '95': 20,\n",
       "             '379': 7,\n",
       "             '150': 15,\n",
       "             '57': 9,\n",
       "             '49': 2,\n",
       "             '241': 15,\n",
       "             '376': 5,\n",
       "             '312': 11,\n",
       "             '96': 14,\n",
       "             '299': 5,\n",
       "             '276': 12,\n",
       "             '366': 14,\n",
       "             '263': 9,\n",
       "             '269': 13,\n",
       "             '92': 18,\n",
       "             '317': 13,\n",
       "             '240': 11,\n",
       "             '430': 5,\n",
       "             '422': 1,\n",
       "             '365': 5,\n",
       "             '291': 7,\n",
       "             '314': 14,\n",
       "             '238': 5,\n",
       "             '249': 8,\n",
       "             '81': 19,\n",
       "             '271': 12,\n",
       "             '195': 16,\n",
       "             '421': 6,\n",
       "             '444': 3,\n",
       "             '221': 10,\n",
       "             '277': 11,\n",
       "             '298': 9,\n",
       "             '396': 8,\n",
       "             '274': 7,\n",
       "             '295': 8,\n",
       "             '158': 13,\n",
       "             '232': 2,\n",
       "             '272': 5,\n",
       "             '244': 5,\n",
       "             '262': 10,\n",
       "             '198': 10,\n",
       "             '251': 6,\n",
       "             '313': 10,\n",
       "             '392': 5,\n",
       "             '384': 12,\n",
       "             '234': 9,\n",
       "             '121': 15,\n",
       "             '368': 6,\n",
       "             '130': 10,\n",
       "             '288': 2,\n",
       "             '143': 5,\n",
       "             '315': 6,\n",
       "             '164': 8,\n",
       "             '438': 1,\n",
       "             '236': 9,\n",
       "             '427': 3,\n",
       "             '410': 6,\n",
       "             '223': 2,\n",
       "             '253': 3,\n",
       "             '437': 4,\n",
       "             '442': 1,\n",
       "             '54': 9,\n",
       "             '226': 3,\n",
       "             '132': 15,\n",
       "             '290': 2,\n",
       "             '296': 3,\n",
       "             '373': 6,\n",
       "             '367': 9,\n",
       "             '58': 9,\n",
       "             '55': 7,\n",
       "             '128': 8,\n",
       "             '343': 2,\n",
       "             '329': 9,\n",
       "             '402': 6,\n",
       "             '407': 2,\n",
       "             '116': 6,\n",
       "             '261': 5,\n",
       "             '123': 9,\n",
       "             '246': 7,\n",
       "             '305': 11,\n",
       "             '383': 5,\n",
       "             '108': 15,\n",
       "             '218': 6,\n",
       "             '252': 4,\n",
       "             '334': 9,\n",
       "             '323': 9,\n",
       "             '225': 4,\n",
       "             '426': 2,\n",
       "             '433': 5,\n",
       "             '303': 6,\n",
       "             '351': 5,\n",
       "             '439': 4,\n",
       "             '326': 5,\n",
       "             '320': 4,\n",
       "             '413': 7,\n",
       "             '161': 10,\n",
       "             '353': 8,\n",
       "             '45': 1,\n",
       "             '304': 12,\n",
       "             '213': 4,\n",
       "             '378': 4,\n",
       "             '187': 7,\n",
       "             '393': 6,\n",
       "             '337': 5,\n",
       "             '389': 3,\n",
       "             '281': 4,\n",
       "             '185': 5,\n",
       "             '450': 2,\n",
       "             '401': 5,\n",
       "             '431': 3,\n",
       "             '436': 3,\n",
       "             '369': 7,\n",
       "             '254': 6,\n",
       "             '335': 6,\n",
       "             '404': 4,\n",
       "             '318': 4,\n",
       "             '370': 4,\n",
       "             '330': 5,\n",
       "             '297': 2,\n",
       "             '408': 2,\n",
       "             '414': 3,\n",
       "             '62': 7,\n",
       "             '322': 11,\n",
       "             '310': 6,\n",
       "             '248': 4,\n",
       "             '387': 8,\n",
       "             '424': 4,\n",
       "             '416': 1,\n",
       "             '405': 1,\n",
       "             '327': 3,\n",
       "             '372': 8,\n",
       "             '400': 2,\n",
       "             '425': 4,\n",
       "             '328': 6,\n",
       "             '371': 6,\n",
       "             '363': 5,\n",
       "             '435': 1,\n",
       "             '441': 1,\n",
       "             '309': 2,\n",
       "             '193': 8,\n",
       "             '135': 5,\n",
       "             '423': 2,\n",
       "             '428': 1,\n",
       "             '46': 1,\n",
       "             '477': 1,\n",
       "             '482': 1,\n",
       "             '336': 3,\n",
       "             '278': 3,\n",
       "             '300': 1,\n",
       "             '469': 1,\n",
       "             '474': 1,\n",
       "             '419': 3,\n",
       "             '292': 1})"
      ]
     },
     "execution_count": 119,
     "metadata": {},
     "output_type": "execute_result"
    }
   ],
   "source": [
    "valid_text_input_lens"
   ]
  }
 ],
 "metadata": {
  "kernelspec": {
   "display_name": "babyai",
   "language": "python",
   "name": "babyai"
  },
  "language_info": {
   "codemirror_mode": {
    "name": "ipython",
    "version": 3
   },
   "file_extension": ".py",
   "mimetype": "text/x-python",
   "name": "python",
   "nbconvert_exporter": "python",
   "pygments_lexer": "ipython3",
   "version": "3.7.13"
  }
 },
 "nbformat": 4,
 "nbformat_minor": 5
}
