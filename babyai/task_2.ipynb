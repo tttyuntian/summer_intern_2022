{
 "cells": [
  {
   "cell_type": "markdown",
   "id": "7bfd0b2e",
   "metadata": {},
   "source": [
    "# 1. Generate Image Symbolic Representation Data"
   ]
  },
  {
   "cell_type": "code",
   "execution_count": 29,
   "id": "6a6fa479",
   "metadata": {},
   "outputs": [],
   "source": [
    "import blosc\n",
    "from collections import defaultdict\n",
    "import io\n",
    "import os\n",
    "import pickle as pkl\n",
    "from PIL import Image\n",
    "from tqdm import tqdm\n",
    "import matplotlib.pyplot as plt\n",
    "import numpy as np"
   ]
  },
  {
   "cell_type": "code",
   "execution_count": 4,
   "id": "08e61025",
   "metadata": {
    "scrolled": true
   },
   "outputs": [
    {
     "name": "stdout",
     "output_type": "stream",
     "text": [
      "BabyAI-BossLevel-Small-v0.pkl\t       BabyAI-BossLevel-v0-split-9.pkl\r\n",
      "BabyAI-BossLevel-Small-v0_valid.pkl    BabyAI-BossLevel-v0-split-9_valid.pkl\r\n",
      "BabyAI-BossLevel-v0.pkl\t\t       BabyAI-GoToLocal-v0.pkl\r\n",
      "BabyAI-BossLevel-v0-split-0.pkl        BabyAI-GoToLocal-v0_valid.pkl\r\n",
      "BabyAI-BossLevel-v0-split-0_valid.pkl  BabyAI-GoToObjMaze-v0.pkl\r\n",
      "BabyAI-BossLevel-v0-split-1.pkl        BabyAI-GoToObj-v0.pkl\r\n",
      "BabyAI-BossLevel-v0-split-1_valid.pkl  BabyAI-GoToObj-v0-split-1.pkl\r\n",
      "BabyAI-BossLevel-v0-split-2.pkl        BabyAI-GoToObj-v0_valid.pkl\r\n",
      "BabyAI-BossLevel-v0-split-2_valid.pkl  BabyAI-GoToRedBallGrey-v0.pkl\r\n",
      "BabyAI-BossLevel-v0-split-3.pkl        BabyAI-GoToRedBallGrey-v0_valid.pkl\r\n",
      "BabyAI-BossLevel-v0-split-3_valid.pkl  BabyAI-GoToRedBall-v0.pkl\r\n",
      "BabyAI-BossLevel-v0-split-4.pkl        BabyAI-GoToRedBall-v0_valid.pkl\r\n",
      "BabyAI-BossLevel-v0-split-4_valid.pkl  BabyAI-GoTo-v0.pkl\r\n",
      "BabyAI-BossLevel-v0-split-5.pkl        BabyAI-PickupLoc-v0.pkl\r\n",
      "BabyAI-BossLevel-v0-split-5_valid.pkl  BabyAI-PickupLoc-v0_valid.pkl\r\n",
      "BabyAI-BossLevel-v0-split-6.pkl        BabyAI-PutNextLocal-v0.pkl\r\n",
      "BabyAI-BossLevel-v0-split-6_valid.pkl  BabyAI-PutNextLocal-v0_valid.pkl\r\n",
      "BabyAI-BossLevel-v0-split-7.pkl        BossLevel\r\n",
      "BabyAI-BossLevel-v0-split-7_valid.pkl  BossLevel_deprecated\r\n",
      "BabyAI-BossLevel-v0-split-8.pkl        BossLevel-Small\r\n",
      "BabyAI-BossLevel-v0-split-8_valid.pkl\r\n"
     ]
    }
   ],
   "source": [
    "!ls ../../data/babyai_pretraining"
   ]
  },
  {
   "cell_type": "code",
   "execution_count": null,
   "id": "2802b4ed",
   "metadata": {},
   "outputs": [],
   "source": [
    "# No split size\n",
    "def get_pretraining_data(\n",
    "    env,\n",
    "    data,\n",
    "    output_dir_path,\n",
    "    is_train,\n",
    "    split_id,\n",
    "):\n",
    "    def image_to_bytes(image):\n",
    "        bytes_io = io.BytesIO()\n",
    "        image.save(bytes_io, \"PNG\")\n",
    "        return bytes_io.getvalue()\n",
    "    \n",
    "    def get_image_symbolic_repr(image):\n",
    "        height, width, channel = image.shape\n",
    "        img_symbolic = np.zeros((height, width))\n",
    "        for h in range(height):\n",
    "            for w in range(width):\n",
    "                element = image[h][w]\n",
    "                img_symbolic[h][w] = SYMBOL_TO_IDX[tuple(element)]\n",
    "        return img_symbolic\n",
    "    \n",
    "    \n",
    "    \n",
    "    output_dir = os.path.join(output_dir_path, env)\n",
    "    os.makedirs(output_dir, exist_ok=True)\n",
    "    \n",
    "    data_split = []\n",
    "    for ex_id, ex in tqdm(enumerate(data), total=len(data)):\n",
    "        img_rgb = blosc.unpack_array(ex[2])\n",
    "        img_rgb = Image.fromarray(img_rgb[0])  # Always select the first frame\n",
    "        img_raw = blosc.unpack_array(ex[3])\n",
    "        img_raw = Image.fromarray(img_raw[0])  # Always select the first frame\n",
    "        img_symbolic_repr = get_image_symbolic_repr(img_raw)\n",
    "        text_symbolic_repr = get_text_symbolic_repr(img_raw)\n",
    "        \n",
    "        img_rgb_encoded = image_to_bytes(img_rgb)\n",
    "        \n",
    "        action = \",\".join(ex[6])\n",
    "        \n",
    "        data_split.append({\n",
    "            \"img_rgb\": img_rgb_encoded,\n",
    "            \"img_symbolic_repr\": img_symbolic_repr,\n",
    "            \"text_symbolic_repr\": text_symbolic_repr,\n",
    "            \"mission\": ex[0],\n",
    "            \"action_seq\": action\n",
    "        })\n",
    "    \n",
    "    if data_split:\n",
    "        if is_train:\n",
    "            output_name = f\"split_train_{split_id}\"\n",
    "        else:\n",
    "            output_name = f\"split_valid_{split_id}\"\n",
    "\n",
    "        output_path = os.path.join(output_dir, f\"{output_name}.pkl\")\n",
    "        with open(output_path, \"wb\") as f:\n",
    "            pkl.dump(data_split, f)\n"
   ]
  },
  {
   "cell_type": "code",
   "execution_count": 26,
   "id": "e2b2606d",
   "metadata": {},
   "outputs": [],
   "source": [
    "# [object, color, state]\n",
    "COLOR_TO_IDX = {\n",
    "    'red'   : 0,\n",
    "    'green' : 1,\n",
    "    'blue'  : 2,\n",
    "    'purple': 3,\n",
    "    'yellow': 4,\n",
    "    'grey'  : 5\n",
    "}\n",
    "\n",
    "OBJECT_TO_IDX = {\n",
    "    'unseen'        : 0,\n",
    "    'empty'         : 1,\n",
    "    'wall'          : 2,\n",
    "    'floor'         : 3,\n",
    "    'door'          : 4,\n",
    "    'key'           : 5,\n",
    "    'ball'          : 6,\n",
    "    'box'           : 7,\n",
    "    'goal'          : 8,\n",
    "    'lava'          : 9,\n",
    "    'agent'         : 10,\n",
    "}\n",
    "\n",
    "STATE_TO_IDX = {\n",
    "    'open'  : 0,\n",
    "    'closed': 1,\n",
    "    'locked': 2,\n",
    "}\n",
    "\n",
    "IDX_TO_COLOR = {idx:color for color, idx in COLOR_TO_IDX.items()}\n",
    "IDX_TO_OBJECT = {idx:obj for obj, idx in OBJECT_TO_IDX.items()}\n",
    "IDX_TO_STATE = {idx:state for state, idx in STATE_TO_IDX.items()}\n",
    "\n",
    "# Get all the symbols\n",
    "SYMBOL_TO_IDX = {}\n",
    "for color, color_id in COLOR_TO_IDX.items():\n",
    "    for obj, obj_id in OBJECT_TO_IDX.items():\n",
    "        for state, state_id in STATE_TO_IDX.items():\n",
    "            SYMBOL_TO_IDX[(obj_id, color_id, state_id)] = len(SYMBOL_TO_IDX)\n",
    "\n",
    "IDX_TO_SYMBOL = {idx:symbol for symbol, idx in SYMBOL_TO_IDX.items()}"
   ]
  },
  {
   "cell_type": "code",
   "execution_count": 2,
   "id": "d4683017",
   "metadata": {},
   "outputs": [],
   "source": [
    "for split_id in range(10):\n",
    "    with open(f\"../../data/babyai_pretraining/BabyAI-BossLevel-v0-split-{split_id}.pkl\", \"rb\") as f:\n",
    "        demos = pkl.load(f)\n",
    "    break"
   ]
  },
  {
   "cell_type": "code",
   "execution_count": 38,
   "id": "f46ed1d3",
   "metadata": {},
   "outputs": [
    {
     "name": "stderr",
     "output_type": "stream",
     "text": [
      "  0%|                                                 | 0/10000 [00:00<?, ?it/s]\n"
     ]
    }
   ],
   "source": [
    "for row_id in tqdm(range(len(demos))):\n",
    "    demo = demos[row_id]\n",
    "    mission = demo[0]\n",
    "    img = blosc.unpack_array(demo[2])[0]\n",
    "    img_raw = blosc.unpack_array(demo[3])\n",
    "    img_raw = img_raw[0]\n",
    "    break"
   ]
  },
  {
   "cell_type": "code",
   "execution_count": 39,
   "id": "c153ac13",
   "metadata": {},
   "outputs": [
    {
     "data": {
      "text/plain": [
       "<matplotlib.image.AxesImage at 0x7f957a65fb50>"
      ]
     },
     "execution_count": 39,
     "metadata": {},
     "output_type": "execute_result"
    },
    {
     "data": {
      "image/png": "[encoded data removed]",
      "text/plain": [
       "<Figure size 432x288 with 1 Axes>"
      ]
     },
     "metadata": {
      "needs_background": "light"
     },
     "output_type": "display_data"
    }
   ],
   "source": [
    "plt.imshow(img)"
   ]
  },
  {
   "cell_type": "code",
   "execution_count": 33,
   "id": "b6274e53",
   "metadata": {},
   "outputs": [],
   "source": [
    "height, width, channel = img_raw.shape\n",
    "\n",
    "img_symbolic = np.zeros((height, width))\n",
    "for h in range(height):\n",
    "    for w in range(width):\n",
    "        element = img_raw[h][w]\n",
    "        img_symbolic[h][w] = SYMBOL_TO_IDX[tuple(element)]"
   ]
  }
 ],
 "metadata": {
  "kernelspec": {
   "display_name": "babyai",
   "language": "python",
   "name": "babyai"
  },
  "language_info": {
   "codemirror_mode": {
    "name": "ipython",
    "version": 3
   },
   "file_extension": ".py",
   "mimetype": "text/x-python",
   "name": "python",
   "nbconvert_exporter": "python",
   "pygments_lexer": "ipython3",
   "version": "3.7.13"
  }
 },
 "nbformat": 4,
 "nbformat_minor": 5
}
